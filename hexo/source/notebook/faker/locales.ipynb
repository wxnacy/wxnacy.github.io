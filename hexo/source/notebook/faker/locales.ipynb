{
 "cells": [
  {
   "cell_type": "code",
   "execution_count": 1,
   "metadata": {},
   "outputs": [
    {
     "data": {
      "text/plain": [
       "'李颖'"
      ]
     },
     "execution_count": 1,
     "metadata": {},
     "output_type": "execute_result"
    }
   ],
   "source": [
    "from faker import Faker\n",
    "\n",
    "# 设置中文\n",
    "fake = Faker('zh_CN')\n",
    "fake.name()"
   ]
  },
  {
   "cell_type": "code",
   "execution_count": 3,
   "metadata": {
    "scrolled": true
   },
   "outputs": [
    {
     "name": "stdout",
     "output_type": "stream",
     "text": [
      "叶柳\n",
      "田中 充\n",
      "Thomas Decker\n",
      "Kyle Avila\n",
      "何勇\n",
      "田辺 結衣\n",
      "Ashley Gonzalez\n",
      "梁莹\n",
      "Cheryl Long\n",
      "大垣 治\n"
     ]
    }
   ],
   "source": [
    "# 设置多个语言\n",
    "fake = Faker(['zh_CN', 'ja_JP', 'en_US'])\n",
    "for _ in range(10):\n",
    "    print(fake.name())"
   ]
  },
  {
   "cell_type": "code",
   "execution_count": 5,
   "metadata": {},
   "outputs": [],
   "source": [
    "# 设置多语言的权重\n",
    "\n",
    "from collections import OrderedDict\n",
    "locales = OrderedDict([\n",
    "    ('en-US', 1),\n",
    "    ('en-PH', 2),\n",
    "    ('ja_JP', 3),\n",
    "])\n",
    "fake = Faker(locales)"
   ]
  },
  {
   "cell_type": "code",
   "execution_count": 6,
   "metadata": {},
   "outputs": [
    {
     "data": {
      "text/plain": [
       "['en_US', 'en_PH', 'ja_JP']"
      ]
     },
     "execution_count": 6,
     "metadata": {},
     "output_type": "execute_result"
    }
   ],
   "source": [
    "# 获取指定的语言列表\n",
    "fake.locales"
   ]
  },
  {
   "cell_type": "code",
   "execution_count": 7,
   "metadata": {},
   "outputs": [
    {
     "data": {
      "text/plain": [
       "'Nicholas Malone'"
      ]
     },
     "execution_count": 7,
     "metadata": {},
     "output_type": "execute_result"
    }
   ],
   "source": [
    "# 单独获取列表中某一个语言\n",
    "fake['en-US'].name()"
   ]
  },
  {
   "cell_type": "code",
   "execution_count": null,
   "metadata": {},
   "outputs": [],
   "source": []
  }
 ],
 "metadata": {
  "kernelspec": {
   "display_name": "Python 3",
   "language": "python",
   "name": "python3"
  },
  "language_info": {
   "codemirror_mode": {
    "name": "ipython",
    "version": 3
   },
   "file_extension": ".py",
   "mimetype": "text/x-python",
   "name": "python",
   "nbconvert_exporter": "python",
   "pygments_lexer": "ipython3",
   "version": "3.7.6"
  }
 },
 "nbformat": 4,
 "nbformat_minor": 4
}
