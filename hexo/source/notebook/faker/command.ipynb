{
 "cells": [
  {
   "cell_type": "code",
   "execution_count": 1,
   "metadata": {},
   "outputs": [
    {
     "name": "stdout",
     "output_type": "stream",
     "text": [
      "Chris Curtis\r\n",
      "\r\n"
     ]
    }
   ],
   "source": [
    "# 生成名字\n",
    "!faker name"
   ]
  },
  {
   "cell_type": "code",
   "execution_count": 2,
   "metadata": {},
   "outputs": [
    {
     "name": "stdout",
     "output_type": "stream",
     "text": [
      "窦鑫\r\n",
      "\r\n"
     ]
    }
   ],
   "source": [
    "# 设置语言\n",
    "!faker -l zh_CN name"
   ]
  },
  {
   "cell_type": "code",
   "execution_count": 4,
   "metadata": {},
   "outputs": [
    {
     "name": "stdout",
     "output_type": "stream",
     "text": [
      "Victor Martinez;\n",
      "Brenda Johnson;\n",
      "Timothy Bridges;\n"
     ]
    }
   ],
   "source": [
    "# 重复三次，并设置后缀\n",
    "!faker -r 3 -s \";\" name"
   ]
  },
  {
   "cell_type": "code",
   "execution_count": 5,
   "metadata": {},
   "outputs": [
    {
     "name": "stdout",
     "output_type": "stream",
     "text": [
      "usage: faker [-h] [--version] [-v] [-o output] [-l LOCALE] [-r REPEAT]\n",
      "             [-s SEP] [--seed SEED] [-i [INCLUDE [INCLUDE ...]]]\n",
      "             [fake] [fake argument [fake argument ...]]\n",
      "\n",
      "faker version 4.1.0\n",
      "\n",
      "positional arguments:\n",
      "  fake                  name of the fake to generate output for (e.g. profile)\n",
      "  fake argument         optional arguments to pass to the fake (e.g. the\n",
      "                        profile fake takes an optional list of comma separated\n",
      "                        field names as the first argument)\n",
      "\n",
      "optional arguments:\n",
      "  -h, --help            show this help message and exit\n",
      "  --version             show program's version number and exit\n",
      "  -v, --verbose         show INFO logging events instead of CRITICAL, which is\n",
      "                        the default. These logging events provide insight into\n",
      "                        localization of specific providers.\n",
      "  -o output             redirect output to a file\n",
      "  -l LOCALE, --lang LOCALE\n",
      "                        specify the language for a localized provider (e.g.\n",
      "                        de_DE)\n",
      "  -r REPEAT, --repeat REPEAT\n",
      "                        generate the specified number of outputs\n",
      "  -s SEP, --sep SEP     use the specified separator after each output\n",
      "  --seed SEED           specify a seed for the random generator so that\n",
      "                        results are repeatable. Also compatible with 'repeat'\n",
      "                        option\n",
      "  -i [INCLUDE [INCLUDE ...]], --include [INCLUDE [INCLUDE ...]]\n",
      "                        list of additional custom providers to user, given as\n",
      "                        the import path of the module containing your Provider\n",
      "                        class (not the provider class itself)\n",
      "\n",
      "supported locales:\n",
      "\n",
      "  ar_AA, ar_EG, ar_JO, ar_PS, ar_SA, bg_BG, bs_BA, cs_CZ, de, de_AT, de_CH, de_DE, dk_DK, el_CY, el_GR, en, en_AU, en_CA, en_GB, en_IE, en_IN, en_NZ, en_PH, en_TH, en_US, es, es_CA, es_ES, es_MX, et_EE, fa_IR, fi_FI, fil_PH, fr_CH, fr_FR, fr_QC, he_IL, hi_IN, hr_HR, hu_HU, hy_AM, id_ID, it_IT, ja_JP, ka_GE, ko_KR, la, lb_LU, lt_LT, lv_LV, mt_MT, ne_NP, nl_BE, nl_NL, no_NO, pl_PL, pt_BR, pt_PT, ro_RO, ru_RU, sk_SK, sl_SI, sv_SE, ta_IN, th_TH, tl_PH, tr_TR, tw_GH, uk_UA, zh_CN, zh_TW\n",
      "\n",
      "  Faker can take a locale as an optional argument, to return localized data. If\n",
      "  no locale argument is specified, the factory falls back to the user's OS\n",
      "  locale as long as it is supported by at least one of the providers.\n",
      "     - for this user, the default locale is en_US.\n",
      "\n",
      "  If the optional argument locale and/or user's default locale is not available\n",
      "  for the specified provider, the factory falls back to faker's default locale,\n",
      "  which is en_US.\n",
      "\n",
      "examples:\n",
      "\n",
      "  $ faker address\n",
      "  968 Bahringer Garden Apt. 722\n",
      "  Kristinaland, NJ 09890\n",
      "\n",
      "  $ faker -l de_DE address\n",
      "  Samira-Niemeier-Allee 56\n",
      "  94812 Biedenkopf\n",
      "\n",
      "  $ faker profile ssn,birthdate\n",
      "  {'ssn': u'628-10-1085', 'birthdate': '2008-03-29'}\n",
      "\n",
      "  $ faker -r=3 -s=\";\" name\n",
      "  Willam Kertzmann;\n",
      "  Josiah Maggio;\n",
      "  Gayla Schmitt;\n"
     ]
    }
   ],
   "source": [
    "# 帮助文档\n",
    "!faker -h"
   ]
  }
 ],
 "metadata": {
  "kernelspec": {
   "display_name": "Python 3",
   "language": "python",
   "name": "python3"
  },
  "language_info": {
   "codemirror_mode": {
    "name": "ipython",
    "version": 3
   },
   "file_extension": ".py",
   "mimetype": "text/x-python",
   "name": "python",
   "nbconvert_exporter": "python",
   "pygments_lexer": "ipython3",
   "version": "3.7.6"
  }
 },
 "nbformat": 4,
 "nbformat_minor": 4
}
