{
 "cells": [
  {
   "cell_type": "code",
   "execution_count": 1,
   "metadata": {},
   "outputs": [
    {
     "data": {
      "text/plain": [
       "'Michelle Little'"
      ]
     },
     "execution_count": 1,
     "metadata": {},
     "output_type": "execute_result"
    }
   ],
   "source": [
    "#!/usr/bin/env python\n",
    "# -*- coding:utf-8 -*-\n",
    "# Author: wxnacy(wxnacy@gmail.com)\n",
    "# Faker 快速开始\n",
    "# https://github.com/joke2k/faker\n",
    "\n",
    "from faker import Faker\n",
    "fake = Faker()\n",
    "# 生成名字\n",
    "fake.name()"
   ]
  },
  {
   "cell_type": "code",
   "execution_count": 4,
   "metadata": {},
   "outputs": [
    {
     "data": {
      "text/plain": [
       "'0226 Donald Courts\\nColeborough, WA 70527'"
      ]
     },
     "execution_count": 4,
     "metadata": {},
     "output_type": "execute_result"
    }
   ],
   "source": [
    "# 生成地址\n",
    "fake.address()"
   ]
  },
  {
   "cell_type": "code",
   "execution_count": 5,
   "metadata": {},
   "outputs": [
    {
     "data": {
      "text/plain": [
       "'Age political even bad coach success. List through hand.\\nDo animal with office born source. Base agree feeling human hour. Answer player structure glass.\\nBusiness issue plant box.'"
      ]
     },
     "execution_count": 5,
     "metadata": {},
     "output_type": "execute_result"
    }
   ],
   "source": [
    "# 生成文本\n",
    "fake.text()"
   ]
  },
  {
   "cell_type": "code",
   "execution_count": 6,
   "metadata": {},
   "outputs": [
    {
     "data": {
      "text/plain": [
       "'Opera/9.26.(X11; Linux x86_64; om-KE) Presto/2.9.171 Version/11.00'"
      ]
     },
     "execution_count": 6,
     "metadata": {},
     "output_type": "execute_result"
    }
   ],
   "source": [
    "# 生成 user_agent\n",
    "fake.user_agent()"
   ]
  },
  {
   "cell_type": "code",
   "execution_count": 2,
   "metadata": {},
   "outputs": [
    {
     "data": {
      "text/plain": [
       "'1.182.26.39'"
      ]
     },
     "execution_count": 2,
     "metadata": {},
     "output_type": "execute_result"
    }
   ],
   "source": [
    "# 生成 ipv4\n",
    "fake.ipv4()"
   ]
  },
  {
   "cell_type": "code",
   "execution_count": 3,
   "metadata": {},
   "outputs": [
    {
     "data": {
      "text/plain": [
       "'Android 2.2.2'"
      ]
     },
     "execution_count": 3,
     "metadata": {},
     "output_type": "execute_result"
    }
   ],
   "source": [
    "# 生成 android 平台名称\n",
    "fake.android_platform_token()"
   ]
  },
  {
   "cell_type": "code",
   "execution_count": 4,
   "metadata": {},
   "outputs": [
    {
     "data": {
      "text/plain": [
       "'iPad; CPU iPad OS 7_1_2 like Mac OS X'"
      ]
     },
     "execution_count": 4,
     "metadata": {},
     "output_type": "execute_result"
    }
   ],
   "source": [
    "# 生成 ios 平台名称\n",
    "fake.ios_platform_token()"
   ]
  },
  {
   "cell_type": "code",
   "execution_count": 7,
   "metadata": {},
   "outputs": [
    {
     "data": {
      "text/plain": [
       "['__class__',\n",
       " '__delattr__',\n",
       " '__dict__',\n",
       " '__dir__',\n",
       " '__doc__',\n",
       " '__eq__',\n",
       " '__format__',\n",
       " '__ge__',\n",
       " '__getattr__',\n",
       " '__getattribute__',\n",
       " '__getitem__',\n",
       " '__gt__',\n",
       " '__hash__',\n",
       " '__init__',\n",
       " '__init_subclass__',\n",
       " '__le__',\n",
       " '__lt__',\n",
       " '__module__',\n",
       " '__ne__',\n",
       " '__new__',\n",
       " '__reduce__',\n",
       " '__reduce_ex__',\n",
       " '__repr__',\n",
       " '__setattr__',\n",
       " '__sizeof__',\n",
       " '__str__',\n",
       " '__subclasshook__',\n",
       " '__weakref__',\n",
       " '_factories',\n",
       " '_factory_map',\n",
       " '_locales',\n",
       " '_map_provider_method',\n",
       " '_select_factory',\n",
       " '_weights',\n",
       " 'add_provider',\n",
       " 'address',\n",
       " 'am_pm',\n",
       " 'android_platform_token',\n",
       " 'ascii_company_email',\n",
       " 'ascii_email',\n",
       " 'ascii_free_email',\n",
       " 'ascii_safe_email',\n",
       " 'bank_country',\n",
       " 'bban',\n",
       " 'binary',\n",
       " 'boolean',\n",
       " 'bothify',\n",
       " 'bs',\n",
       " 'building_number',\n",
       " 'cache_pattern',\n",
       " 'catch_phrase',\n",
       " 'century',\n",
       " 'chrome',\n",
       " 'city',\n",
       " 'city_prefix',\n",
       " 'city_suffix',\n",
       " 'color',\n",
       " 'color_name',\n",
       " 'company',\n",
       " 'company_email',\n",
       " 'company_suffix',\n",
       " 'coordinate',\n",
       " 'country',\n",
       " 'country_calling_code',\n",
       " 'country_code',\n",
       " 'credit_card_expire',\n",
       " 'credit_card_full',\n",
       " 'credit_card_number',\n",
       " 'credit_card_provider',\n",
       " 'credit_card_security_code',\n",
       " 'cryptocurrency',\n",
       " 'cryptocurrency_code',\n",
       " 'cryptocurrency_name',\n",
       " 'csv',\n",
       " 'currency',\n",
       " 'currency_code',\n",
       " 'currency_name',\n",
       " 'currency_symbol',\n",
       " 'date',\n",
       " 'date_between',\n",
       " 'date_between_dates',\n",
       " 'date_object',\n",
       " 'date_of_birth',\n",
       " 'date_this_century',\n",
       " 'date_this_decade',\n",
       " 'date_this_month',\n",
       " 'date_this_year',\n",
       " 'date_time',\n",
       " 'date_time_ad',\n",
       " 'date_time_between',\n",
       " 'date_time_between_dates',\n",
       " 'date_time_this_century',\n",
       " 'date_time_this_decade',\n",
       " 'date_time_this_month',\n",
       " 'date_time_this_year',\n",
       " 'day_of_month',\n",
       " 'day_of_week',\n",
       " 'dga',\n",
       " 'domain_name',\n",
       " 'domain_word',\n",
       " 'dsv',\n",
       " 'ean',\n",
       " 'ean13',\n",
       " 'ean8',\n",
       " 'ein',\n",
       " 'email',\n",
       " 'factories',\n",
       " 'file_extension',\n",
       " 'file_name',\n",
       " 'file_path',\n",
       " 'firefox',\n",
       " 'first_name',\n",
       " 'first_name_female',\n",
       " 'first_name_male',\n",
       " 'format',\n",
       " 'free_email',\n",
       " 'free_email_domain',\n",
       " 'future_date',\n",
       " 'future_datetime',\n",
       " 'generator_attrs',\n",
       " 'get_formatter',\n",
       " 'get_providers',\n",
       " 'hex_color',\n",
       " 'hexify',\n",
       " 'hostname',\n",
       " 'http_method',\n",
       " 'iban',\n",
       " 'image_url',\n",
       " 'internet_explorer',\n",
       " 'invalid_ssn',\n",
       " 'ios_platform_token',\n",
       " 'ipv4',\n",
       " 'ipv4_network_class',\n",
       " 'ipv4_private',\n",
       " 'ipv4_public',\n",
       " 'ipv6',\n",
       " 'isbn10',\n",
       " 'isbn13',\n",
       " 'iso8601',\n",
       " 'items',\n",
       " 'itin',\n",
       " 'job',\n",
       " 'language_code',\n",
       " 'last_name',\n",
       " 'last_name_female',\n",
       " 'last_name_male',\n",
       " 'latitude',\n",
       " 'latlng',\n",
       " 'lexify',\n",
       " 'license_plate',\n",
       " 'linux_platform_token',\n",
       " 'linux_processor',\n",
       " 'local_latlng',\n",
       " 'locale',\n",
       " 'locales',\n",
       " 'location_on_land',\n",
       " 'longitude',\n",
       " 'mac_address',\n",
       " 'mac_platform_token',\n",
       " 'mac_processor',\n",
       " 'md5',\n",
       " 'military_apo',\n",
       " 'military_dpo',\n",
       " 'military_ship',\n",
       " 'military_state',\n",
       " 'mime_type',\n",
       " 'month',\n",
       " 'month_name',\n",
       " 'msisdn',\n",
       " 'name',\n",
       " 'name_female',\n",
       " 'name_male',\n",
       " 'null_boolean',\n",
       " 'numerify',\n",
       " 'opera',\n",
       " 'paragraph',\n",
       " 'paragraphs',\n",
       " 'parse',\n",
       " 'password',\n",
       " 'past_date',\n",
       " 'past_datetime',\n",
       " 'phone_number',\n",
       " 'port_number',\n",
       " 'postalcode',\n",
       " 'postalcode_in_state',\n",
       " 'postalcode_plus4',\n",
       " 'postcode',\n",
       " 'postcode_in_state',\n",
       " 'prefix',\n",
       " 'prefix_female',\n",
       " 'prefix_male',\n",
       " 'profile',\n",
       " 'provider',\n",
       " 'providers',\n",
       " 'psv',\n",
       " 'pybool',\n",
       " 'pydecimal',\n",
       " 'pydict',\n",
       " 'pyfloat',\n",
       " 'pyint',\n",
       " 'pyiterable',\n",
       " 'pylist',\n",
       " 'pyset',\n",
       " 'pystr',\n",
       " 'pystr_format',\n",
       " 'pystruct',\n",
       " 'pytuple',\n",
       " 'random',\n",
       " 'random_choices',\n",
       " 'random_digit',\n",
       " 'random_digit_not_null',\n",
       " 'random_digit_not_null_or_empty',\n",
       " 'random_digit_or_empty',\n",
       " 'random_element',\n",
       " 'random_elements',\n",
       " 'random_int',\n",
       " 'random_letter',\n",
       " 'random_letters',\n",
       " 'random_lowercase_letter',\n",
       " 'random_number',\n",
       " 'random_sample',\n",
       " 'random_uppercase_letter',\n",
       " 'randomize_nb_elements',\n",
       " 'rgb_color',\n",
       " 'rgb_css_color',\n",
       " 'safari',\n",
       " 'safe_color_name',\n",
       " 'safe_email',\n",
       " 'safe_hex_color',\n",
       " 'secondary_address',\n",
       " 'seed',\n",
       " 'seed_instance',\n",
       " 'seed_locale',\n",
       " 'sentence',\n",
       " 'sentences',\n",
       " 'set_formatter',\n",
       " 'sha1',\n",
       " 'sha256',\n",
       " 'simple_profile',\n",
       " 'slug',\n",
       " 'ssn',\n",
       " 'state',\n",
       " 'state_abbr',\n",
       " 'street_address',\n",
       " 'street_name',\n",
       " 'street_suffix',\n",
       " 'suffix',\n",
       " 'suffix_female',\n",
       " 'suffix_male',\n",
       " 'tar',\n",
       " 'text',\n",
       " 'texts',\n",
       " 'time',\n",
       " 'time_delta',\n",
       " 'time_object',\n",
       " 'time_series',\n",
       " 'timezone',\n",
       " 'tld',\n",
       " 'tsv',\n",
       " 'unix_device',\n",
       " 'unix_partition',\n",
       " 'unix_time',\n",
       " 'upc_a',\n",
       " 'upc_e',\n",
       " 'uri',\n",
       " 'uri_extension',\n",
       " 'uri_page',\n",
       " 'uri_path',\n",
       " 'url',\n",
       " 'user_agent',\n",
       " 'user_name',\n",
       " 'uuid4',\n",
       " 'weights',\n",
       " 'windows_platform_token',\n",
       " 'word',\n",
       " 'words',\n",
       " 'year',\n",
       " 'zip',\n",
       " 'zipcode',\n",
       " 'zipcode_in_state',\n",
       " 'zipcode_plus4']"
      ]
     },
     "execution_count": 7,
     "metadata": {},
     "output_type": "execute_result"
    }
   ],
   "source": [
    "# 查看 faker 属性\n",
    "dir(fake)"
   ]
  },
  {
   "cell_type": "code",
   "execution_count": null,
   "metadata": {},
   "outputs": [],
   "source": []
  }
 ],
 "metadata": {
  "kernelspec": {
   "display_name": "Python 3",
   "language": "python",
   "name": "python3"
  },
  "language_info": {
   "codemirror_mode": {
    "name": "ipython",
    "version": 3
   },
   "file_extension": ".py",
   "mimetype": "text/x-python",
   "name": "python",
   "nbconvert_exporter": "python",
   "pygments_lexer": "ipython3",
   "version": "3.7.6"
  }
 },
 "nbformat": 4,
 "nbformat_minor": 4
}
