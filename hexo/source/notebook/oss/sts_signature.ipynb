{
 "cells": [
  {
   "cell_type": "code",
   "execution_count": 90,
   "metadata": {},
   "outputs": [
    {
     "data": {
      "text/plain": [
       "[('AccessKeyId', 'testid'),\n",
       " ('Action', 'AssumeRole'),\n",
       " ('Format', 'JSON'),\n",
       " ('RoleArn', 'acs:ram::1234567890123:role/firstrole'),\n",
       " ('RoleSessionName', 'client'),\n",
       " ('SignatureMethod', 'HMAC-SHA1'),\n",
       " ('SignatureNonce', '571f8fb8-506e-11e5-8e12-b8e8563dc8d2'),\n",
       " ('SignatureVersion', '1.0'),\n",
       " ('Timestamp', '2015-09-01T05:57:34Z'),\n",
       " ('Version', '2015-04-01')]"
      ]
     },
     "execution_count": 90,
     "metadata": {},
     "output_type": "execute_result"
    }
   ],
   "source": [
    "# Python Version: 3.7\n",
    "# 计算签名\n",
    "# https://help.aliyun.com/document_detail/28761.html?spm=a2c4g.11186623.6.791.66725328JBIR5G\n",
    "\n",
    "\n",
    "#https://sts.aliyuncs.com/?&AccessKeyId=testid&SignatureMethod=HMAC-SHA1&Version=2015-04-01&Action=AssumeRole&SignatureNonce=571f8fb8-506e-11e5-8e12-b8e8563dc8d2\n",
    "params = {\n",
    "    \"Action\": \"AssumeRole\",\n",
    "    \"Format\": \"JSON\",\n",
    "    \"Version\": \"2015-04-01\",\n",
    "    \"SignatureMethod\": \"HMAC-SHA1\",\n",
    "    \"SignatureNonce\": \"571f8fb8-506e-11e5-8e12-b8e8563dc8d2\",\n",
    "    \"SignatureVersion\": \"1.0\",\n",
    "    \"AccessKeyId\": \"testid\",\n",
    "    \"Timestamp\": \"2015-09-01T05:57:34Z\",\n",
    "    \"RoleArn\": \"acs:ram::1234567890123:role/firstrole\",\n",
    "    \"RoleSessionName\": \"client\"\n",
    "}\n",
    "\n",
    "# 按照首字母排序\n",
    "params_arr = list(params.items())\n",
    "params_arr.sort(key=lambda x: x[0])\n",
    "params_arr\n"
   ]
  },
  {
   "cell_type": "code",
   "execution_count": 91,
   "metadata": {},
   "outputs": [
    {
     "data": {
      "text/plain": [
       "'GET&%2F&AccessKeyId%3Dtestid%26Action%3DAssumeRole%26Format%3DJSON%26RoleArn%3Dacs%253Aram%253A%253A1234567890123%253Arole%252Ffirstrole%26RoleSessionName%3Dclient%26SignatureMethod%3DHMAC-SHA1%26SignatureNonce%3D571f8fb8-506e-11e5-8e12-b8e8563dc8d2%26SignatureVersion%3D1.0%26Timestamp%3D2015-09-01T05%253A57%253A34Z%26Version%3D2015-04-01'"
      ]
     },
     "execution_count": 91,
     "metadata": {},
     "output_type": "execute_result"
    }
   ],
   "source": [
    "from collections import OrderedDict\n",
    "import urllib.parse\n",
    "\n",
    "# 拼接 sign_str\n",
    "sign_str = \"GET&%2F&\"\n",
    "sign_dict = OrderedDict(params_arr)\n",
    "params_str = urllib.parse.urlencode(sign_dict)\n",
    "params_str = urllib.parse.quote(params_str)\n",
    "\n",
    "sign_str += params_str\n",
    "sign_str"
   ]
  },
  {
   "cell_type": "code",
   "execution_count": 87,
   "metadata": {},
   "outputs": [],
   "source": [
    "# 验证签名用的 str 是否正确\n",
    "eg = \"GET&%2F&AccessKeyId%3Dtestid%26Action%3DAssumeRole%26Format%3DJSON%26RoleArn%3Dacs%253Aram%253A%253A1234567890123%253Arole%252Ffirstrole%26RoleSessionName%3Dclient%26SignatureMethod%3DHMAC-SHA1%26SignatureNonce%3D571f8fb8-506e-11e5-8e12-b8e8563dc8d2%26SignatureVersion%3D1.0%26Timestamp%3D2015-09-01T05%253A57%253A34Z%26Version%3D2015-04-01\"\n",
    "assert sign_str == eg"
   ]
  },
  {
   "cell_type": "code",
   "execution_count": 82,
   "metadata": {},
   "outputs": [
    {
     "data": {
      "text/plain": [
       "'gNI7b0AyKZHxDgjBGPDgJ1Ce3L4='"
      ]
     },
     "execution_count": 82,
     "metadata": {},
     "output_type": "execute_result"
    }
   ],
   "source": [
    "import hashlib\n",
    "import hmac\n",
    "import base64\n",
    "h = hmac.new('testsecret&'.encode('utf-8'), sign_str.encode('utf-8'), hashlib.sha1)\n",
    "sign = h.digest()\n",
    "sign = base64.b64encode(sign).decode()\n",
    "sign"
   ]
  },
  {
   "cell_type": "code",
   "execution_count": 89,
   "metadata": {},
   "outputs": [],
   "source": [
    "# 验证签名值\n",
    "assert sign == 'gNI7b0AyKZHxDgjBGPDgJ1Ce3L4='"
   ]
  },
  {
   "cell_type": "code",
   "execution_count": null,
   "metadata": {},
   "outputs": [],
   "source": []
  }
 ],
 "metadata": {
  "kernelspec": {
   "display_name": "Python 3",
   "language": "python",
   "name": "python3"
  },
  "language_info": {
   "codemirror_mode": {
    "name": "ipython",
    "version": 3
   },
   "file_extension": ".py",
   "mimetype": "text/x-python",
   "name": "python",
   "nbconvert_exporter": "python",
   "pygments_lexer": "ipython3",
   "version": "3.7.6"
  }
 },
 "nbformat": 4,
 "nbformat_minor": 4
}
